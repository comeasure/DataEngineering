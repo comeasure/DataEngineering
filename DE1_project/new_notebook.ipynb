{
 "cells": [
  {
   "cell_type": "code",
   "execution_count": 7,
   "id": "favorite-andrew",
   "metadata": {},
   "outputs": [],
   "source": [
    "from pyspark.sql import SparkSession\n",
    "\n",
    "\n",
    "spark_session = SparkSession\\\n",
    "        .builder\\\n",
    "        .master(\"spark://10.0.6.155:7077\") \\\n",
    "        .appName(\"test\")\\\n",
    "        .config(\"spark.dynamicAllocation.enabled\", False)\\\n",
    "        .config(\"spark.shuffle.service.enabled\", False)\\\n",
    "        .config(\"spark.dynamicAllocation.executorIdleTimeout\",\"30s\")\\\n",
    "        .config(\"spark.executor.instances\", 1)\\\n",
    "        .config(\"spark.executor.cores\",2)\\\n",
    "        .getOrCreate()\n",
    "\n",
    "\n",
    "spark_context = spark_session.sparkContext"
   ]
  },
  {
   "cell_type": "code",
   "execution_count": 8,
   "id": "committed-print",
   "metadata": {
    "scrolled": true
   },
   "outputs": [],
   "source": [
    "from pyspark.sql.functions import col"
   ]
  },
  {
   "cell_type": "code",
   "execution_count": 9,
   "id": "numerical-cleaning",
   "metadata": {},
   "outputs": [],
   "source": [
    "import time"
   ]
  },
  {
   "cell_type": "code",
   "execution_count": 10,
   "id": "advance-scroll",
   "metadata": {},
   "outputs": [
    {
     "name": "stdout",
     "output_type": "stream",
     "text": [
      "1\n",
      "4\n",
      "13\n",
      "74\n"
     ]
    },
    {
     "data": {
      "text/plain": [
       "[8.486099004745483, 5.054365873336792, 0.5134804248809814, 0.4343554973602295]"
      ]
     },
     "execution_count": 10,
     "metadata": {},
     "output_type": "execute_result"
    }
   ],
   "source": [
    "#%%time\n",
    "#df = spark_session.read.csv(\"hdfs://hadoop-master:9000/user/root/input/repli_1000_MSD_FINAL2.csv\",header=True,sep=\",\")\n",
    "#df = spark_session.read.csv(\"hdfs://hadoop-master:9000/user/root/input/MSD_FINAL.csv\",header=True,sep=\",\")\n",
    "\n",
    "datasets = [\"hdfs://hadoop-master:9000/user/root/input/MSD_FINAL.csv\", \"hdfs://hadoop-master:9000/user/root/input/repli_6000_MSD_FINAL.csv\", \"hdfs://hadoop-master:9000/user/root/input/repli_1000_MSD_FINAL2.csv\", \"hdfs://hadoop-master:9000/user/root/input/repli_150000_MSD_FINAL.csv\"]\n",
    "times = []\n",
    "for dataset in datasets:\n",
    "    start = time.time()\n",
    "    df = spark_session.read.csv(dataset,header=True,sep=\",\")\n",
    "    #print(df.count())\n",
    "    print(df.rdd.getNumPartitions())\n",
    "\n",
    "    cols = ['danceability','duration','energy','key', 'loudness', 'mode','tempo','year']\n",
    "    df_2 = df.select(*(col(c).cast(\"float\").alias(c) for c in cols))\n",
    "    df_2 = df_2.filter(df.year > 0)\n",
    "    df_3 = df_2.groupBy('year')\n",
    "    df_avg = df_3.mean().orderBy('year', ascending=False)\n",
    "    #df_avg.count()\n",
    "#     df_avg.show(10)\n",
    "    end = time.time()\n",
    "    times.append(end-start)\n",
    "    \n",
    "times"
   ]
  },
  {
   "cell_type": "code",
   "execution_count": null,
   "id": "super-elite",
   "metadata": {},
   "outputs": [],
   "source": [
    "df.rdd.getNumPartitions()"
   ]
  },
  {
   "cell_type": "code",
   "execution_count": null,
   "id": "possible-track",
   "metadata": {},
   "outputs": [],
   "source": []
  },
  {
   "cell_type": "code",
   "execution_count": null,
   "id": "higher-copying",
   "metadata": {},
   "outputs": [],
   "source": []
  },
  {
   "cell_type": "code",
   "execution_count": null,
   "id": "continuing-squad",
   "metadata": {},
   "outputs": [],
   "source": []
  },
  {
   "cell_type": "code",
   "execution_count": null,
   "id": "breathing-accent",
   "metadata": {},
   "outputs": [],
   "source": [
    "df_2.head(5)"
   ]
  },
  {
   "cell_type": "code",
   "execution_count": null,
   "id": "extraordinary-compact",
   "metadata": {},
   "outputs": [],
   "source": []
  },
  {
   "cell_type": "code",
   "execution_count": null,
   "id": "fundamental-trinidad",
   "metadata": {},
   "outputs": [],
   "source": []
  },
  {
   "cell_type": "code",
   "execution_count": null,
   "id": "functioning-winning",
   "metadata": {},
   "outputs": [],
   "source": []
  },
  {
   "cell_type": "code",
   "execution_count": null,
   "id": "naked-gentleman",
   "metadata": {},
   "outputs": [],
   "source": []
  },
  {
   "cell_type": "code",
   "execution_count": null,
   "id": "internal-nursery",
   "metadata": {},
   "outputs": [],
   "source": []
  },
  {
   "cell_type": "code",
   "execution_count": null,
   "id": "structured-airport",
   "metadata": {},
   "outputs": [],
   "source": [
    "df_avg.select('year').collect()"
   ]
  },
  {
   "cell_type": "code",
   "execution_count": null,
   "id": "collect-church",
   "metadata": {},
   "outputs": [],
   "source": []
  },
  {
   "cell_type": "code",
   "execution_count": null,
   "id": "conditional-share",
   "metadata": {},
   "outputs": [],
   "source": []
  },
  {
   "cell_type": "code",
   "execution_count": null,
   "id": "dedicated-technology",
   "metadata": {},
   "outputs": [],
   "source": []
  },
  {
   "cell_type": "code",
   "execution_count": 11,
   "id": "forced-duplicate",
   "metadata": {},
   "outputs": [],
   "source": [
    "spark_context.stop()"
   ]
  },
  {
   "cell_type": "code",
   "execution_count": null,
   "id": "fiscal-calibration",
   "metadata": {},
   "outputs": [],
   "source": []
  },
  {
   "cell_type": "code",
   "execution_count": null,
   "id": "immediate-raleigh",
   "metadata": {},
   "outputs": [],
   "source": []
  }
 ],
 "metadata": {
  "kernelspec": {
   "display_name": "Python 3",
   "language": "python",
   "name": "python3"
  },
  "language_info": {
   "codemirror_mode": {
    "name": "ipython",
    "version": 3
   },
   "file_extension": ".py",
   "mimetype": "text/x-python",
   "name": "python",
   "nbconvert_exporter": "python",
   "pygments_lexer": "ipython3",
   "version": "3.6.10"
  }
 },
 "nbformat": 4,
 "nbformat_minor": 5
}
